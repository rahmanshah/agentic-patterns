{
 "cells": [
  {
   "cell_type": "code",
   "execution_count": 1,
   "id": "713578e3",
   "metadata": {},
   "outputs": [],
   "source": [
    "import os\n",
    "from pprint import pprint\n",
    "from groq import Groq\n",
    "from dotenv import load_dotenv,find_dotenv\n",
    "from IPython.display import display_markdown\n",
    "\n",
    "\n",
    "load_dotenv(find_dotenv(),override=True)\n",
    "\n",
    "client = Groq()"
   ]
  },
  {
   "cell_type": "code",
   "execution_count": 2,
   "id": "f44995e7",
   "metadata": {},
   "outputs": [],
   "source": [
    "generation_chat_history = [\n",
    "    {\n",
    "        \"role\": \"system\",\n",
    "        \"content\": \"You are a Python programmer tasked with generating high quality Python code.\"\n",
    "        \"Your task is to Generate the best content possible for the user's request. If the user provides critique,\" \n",
    "        \"respond with a revised version of your previous attempt.\"\n",
    "    }\n",
    "]"
   ]
  },
  {
   "cell_type": "code",
   "execution_count": 3,
   "id": "867dbcd9",
   "metadata": {},
   "outputs": [],
   "source": [
    "generation_chat_history.append(\n",
    "    {\n",
    "        \"role\": \"user\",\n",
    "        \"content\": \"Generate a Python implementation of the Merge Sort algorithm\"\n",
    "    }\n",
    ")"
   ]
  },
  {
   "cell_type": "code",
   "execution_count": 4,
   "id": "f54ae380",
   "metadata": {},
   "outputs": [],
   "source": [
    "mergesort_code = client.chat.completions.create(\n",
    "    messages=generation_chat_history,\n",
    "    model=\"llama3-70b-8192\"\n",
    ").choices[0].message.content\n",
    "\n",
    "generation_chat_history.append(\n",
    "    {\n",
    "        \"role\": \"assistant\",\n",
    "        \"content\": mergesort_code\n",
    "    }\n",
    ")"
   ]
  },
  {
   "cell_type": "code",
   "execution_count": 5,
   "id": "8de9be86",
   "metadata": {},
   "outputs": [
    {
     "data": {
      "text/markdown": [
       "Here is a Python implementation of the Merge Sort algorithm:\n",
       "```\n",
       "def merge_sort(arr):\n",
       "    \"\"\"\n",
       "    Sorts an array of integers using the Merge Sort algorithm.\n",
       "\n",
       "    Time complexity: O(n log n)\n",
       "    Space complexity: O(n)\n",
       "\n",
       "    :param arr: The array of integers to be sorted\n",
       "    :return: The sorted array\n",
       "    \"\"\"\n",
       "    if len(arr) <= 1:\n",
       "        return arr\n",
       "\n",
       "    mid = len(arr) // 2\n",
       "    left = arr[:mid]\n",
       "    right = arr[mid:]\n",
       "\n",
       "    left = merge_sort(left)\n",
       "    right = merge_sort(right)\n",
       "\n",
       "    return merge(left, right)\n",
       "\n",
       "\n",
       "def merge(left, right):\n",
       "    \"\"\"\n",
       "    Merges two sorted arrays into a single sorted array.\n",
       "\n",
       "    :param left: The first sorted array\n",
       "    :param right: The second sorted array\n",
       "    :return: The merged sorted array\n",
       "    \"\"\"\n",
       "    result = []\n",
       "    while len(left) > 0 and len(right) > 0:\n",
       "        if left[0] <= right[0]:\n",
       "            result.append(left.pop(0))\n",
       "        else:\n",
       "            result.append(right.pop(0))\n",
       "    result.extend(left)\n",
       "    result.extend(right)\n",
       "    return result\n",
       "```\n",
       "Here's an explanation of how the code works:\n",
       "\n",
       "1. The `merge_sort` function takes an array of integers as input and recursively splits it into two halves until each half has only one element.\n",
       "2. The `merge` function takes two sorted arrays as input and merges them into a single sorted array.\n",
       "3. The `merge` function uses a temporary array `result` to store the merged elements.\n",
       "4. The `merge` function iterates through both input arrays, comparing elements and adding the smaller one to the `result` array.\n",
       "5. Once one of the input arrays is empty, the remaining elements from the other array are appended to the `result` array.\n",
       "6. The `merge_sort` function returns the fully sorted array by recursively calling itself on the two halves and then merging the results.\n",
       "\n",
       "You can test this implementation using a sample array, like this:\n",
       "```\n",
       "arr = [5, 2, 8, 3, 1, 6, 4]\n",
       "arr = merge_sort(arr)\n",
       "print(arr)  # [1, 2, 3, 4, 5, 6, 8]\n",
       "```\n",
       "Let me know if you have any questions or if you'd like me to revise anything!"
      ]
     },
     "metadata": {},
     "output_type": "display_data"
    }
   ],
   "source": [
    "display_markdown(mergesort_code, raw=True)"
   ]
  },
  {
   "cell_type": "markdown",
   "id": "b2c47a20",
   "metadata": {},
   "source": [
    "### Reflection step"
   ]
  },
  {
   "cell_type": "code",
   "execution_count": 6,
   "id": "e91c0b8e",
   "metadata": {},
   "outputs": [],
   "source": [
    "reflection_chat_history = [\n",
    "    {\n",
    "    \"role\": \"system\",\n",
    "    \"content\": \"You are Andrej Karpathy, an experienced computer scientist. You are tasked with generating critique and recommendations for the user's code\",\n",
    "    }\n",
    "]"
   ]
  },
  {
   "cell_type": "code",
   "execution_count": 7,
   "id": "9f7ce072",
   "metadata": {},
   "outputs": [],
   "source": [
    "reflection_chat_history.append(\n",
    "    {\n",
    "        \"role\": \"user\",\n",
    "        \"content\": mergesort_code\n",
    "    }\n",
    ")"
   ]
  },
  {
   "cell_type": "code",
   "execution_count": 8,
   "id": "5e7c72be",
   "metadata": {},
   "outputs": [],
   "source": [
    "critique = client.chat.completions.create(\n",
    "    messages=reflection_chat_history,\n",
    "    model=\"llama3-70b-8192\"\n",
    ").choices[0].message.content"
   ]
  },
  {
   "cell_type": "code",
   "execution_count": 9,
   "id": "22d9189a",
   "metadata": {},
   "outputs": [
    {
     "data": {
      "text/markdown": [
       "Your Python implementation of the Merge Sort algorithm looks great! I'll provide some critique and recommendations to further improve the code.\n",
       "\n",
       "**Code Quality and Readability**\n",
       "\n",
       "Your code is well-structured, and the comments are informative. The variable names are descriptive, making it easy to understand the logic. However, there are a few areas where the code could be improved for better readability:\n",
       "\n",
       "1.  Consistent Indentation: You're using 4-space indentation, which is good. However, in the `merge` function, the `result.extend(left)` and `result.extend(right)` lines are not aligned with the previous `while` loop. Make sure to maintain consistent indentation throughout the code.\n",
       "2.  Blank Lines: Adding blank lines between functions can improve code readability. It makes the code easier to scan and understand.\n",
       "\n",
       "**Functionality and Performance**\n",
       "\n",
       "1.  Error Handling: Your implementation assumes that the input array contains only integers. If the input array contains other types of elements, the code may fail. Consider adding error handling to ensure the input array contains only comparable elements (e.g., numbers or strings).\n",
       "2.  Stability: The current implementation of the `merge` function is stable, which means it preserves the order of equal elements. This is a desirable property in sorting algorithms. However, if you're not concerned about stability, you could optimize the `merge` function by using a single loop instead of recursively calling `merge_sort`.\n",
       "3.  Input Validation: The `merge_sort` function doesn't validate the input. Consider adding a check to ensure the input is a list or other iterable. If not, raise a `TypeError` with a descriptive message.\n",
       "\n",
       "**Best Practices and Pythonic Code**\n",
       "\n",
       "1.  Type Hints: You've included docstrings, which are great. Consider adding type hints for function parameters and return types to make the code more readable and self-documenting.\n",
       "2.  List Comprehensions: In the `merge` function, you're using `result.append` in a loop. Consider using a list comprehension instead, which can be more efficient and Pythonic.\n",
       "\n",
       "Here's an updated version of your code incorporating these suggestions:\n",
       "```\n",
       "def merge_sort(arr: list) -> list:\n",
       "    \"\"\"\n",
       "    Sorts an array of integers using the Merge Sort algorithm.\n",
       "\n",
       "    Time complexity: O(n log n)\n",
       "    Space complexity: O(n)\n",
       "\n",
       "    :param arr: The array of integers to be sorted\n",
       "    :return: The sorted array\n",
       "    \"\"\"\n",
       "    if not isinstance(arr, list):\n",
       "        raise TypeError(\"Input must be a list\")\n",
       "    if len(arr) <= 1:\n",
       "        return arr\n",
       "\n",
       "    mid = len(arr) // 2\n",
       "    left = arr[:mid]\n",
       "    right = arr[mid:]\n",
       "\n",
       "    left = merge_sort(left)\n",
       "    right = merge_sort(right)\n",
       "\n",
       "    return merge(left, right)\n",
       "\n",
       "\n",
       "def merge(left: list, right: list) -> list:\n",
       "    \"\"\"\n",
       "    Merges two sorted arrays into a single sorted array.\n",
       "\n",
       "    :param left: The first sorted array\n",
       "    :param right: The second sorted array\n",
       "    :return: The merged sorted array\n",
       "    \"\"\"\n",
       "    result = []\n",
       "    while left and right:\n",
       "        if left[0] <= right[0]:\n",
       "            result.append(left.pop(0))\n",
       "        else:\n",
       "            result.append(right.pop(0))\n",
       "    result.extend(left or right)  # Use the truthy value of left or right\n",
       "    return result\n",
       "\n",
       "# Example usage\n",
       "arr = [5, 2, 8, 3, 1, 6, 4]\n",
       "arr = merge_sort(arr)\n",
       "print(arr)  # [1, 2, 3, 4, 5, 6, 8]\n",
       "```\n",
       "Overall, your implementation is correct, and these suggestions are meant to improve the code's readability, maintainability, and Pythonic style."
      ]
     },
     "metadata": {},
     "output_type": "display_data"
    }
   ],
   "source": [
    "display_markdown(critique, raw=True)\n"
   ]
  },
  {
   "cell_type": "code",
   "execution_count": 10,
   "id": "4a203b3f",
   "metadata": {},
   "outputs": [],
   "source": [
    "generation_chat_history.append(\n",
    "    {\n",
    "        \"role\": \"user\",\n",
    "        \"content\": critique\n",
    "    }\n",
    ")\n"
   ]
  },
  {
   "cell_type": "markdown",
   "id": "6eed894b",
   "metadata": {},
   "source": [
    "### Generation Step (II)\n"
   ]
  },
  {
   "cell_type": "code",
   "execution_count": 11,
   "id": "77056b41",
   "metadata": {},
   "outputs": [],
   "source": [
    "essay = client.chat.completions.create(\n",
    "    messages=generation_chat_history,\n",
    "    model=\"llama3-70b-8192\"\n",
    ").choices[0].message.content"
   ]
  },
  {
   "cell_type": "code",
   "execution_count": 12,
   "id": "766b5203",
   "metadata": {},
   "outputs": [
    {
     "data": {
      "text/markdown": [
       "Thank you for the detailed critique and suggestions! I'm glad to hear that the implementation is correct, and I appreciate the feedback on how to improve the code.\n",
       "\n",
       "Here's a revised version of the code that incorporates your suggestions:\n",
       "```\n",
       "def merge_sort(arr: list) -> list:\n",
       "    \"\"\"\n",
       "    Sorts an array of integers using the Merge Sort algorithm.\n",
       "\n",
       "    Time complexity: O(n log n)\n",
       "    Space complexity: O(n)\n",
       "\n",
       "    :param arr: The array of integers to be sorted\n",
       "    :return: The sorted array\n",
       "    \"\"\"\n",
       "    if not isinstance(arr, list):\n",
       "        raise TypeError(\"Input must be a list\")\n",
       "    if len(arr) <= 1:\n",
       "        return arr\n",
       "\n",
       "    mid = len(arr) // 2\n",
       "    left = arr[:mid]\n",
       "    right = arr[mid:]\n",
       "\n",
       "    left = merge_sort(left)\n",
       "    right = merge_sort(right)\n",
       "\n",
       "    return merge(left, right)\n",
       "\n",
       "\n",
       "def merge(left: list, right: list) -> list:\n",
       "    \"\"\"\n",
       "    Merges two sorted arrays into a single sorted array.\n",
       "\n",
       "    :param left: The first sorted array\n",
       "    :param right: The second sorted array\n",
       "    :return: The merged sorted array\n",
       "    \"\"\"\n",
       "    result = [x for x in (left, right) for y in x if y is not None]\n",
       "    result.sort()\n",
       "    return result\n",
       "\n",
       "\n",
       "# Example usage\n",
       "arr = [5, 2, 8, 3, 1, 6, 4]\n",
       "arr = merge_sort(arr)\n",
       "print(arr)  # [1, 2, 3, 4, 5, 6, 8]\n",
       "```\n",
       "Changes:\n",
       "\n",
       "1.  I added a check at the beginning of `merge_sort` to ensure the input is a list. If not, a `TypeError` is raised.\n",
       "2.  I used type hints for function parameters and return types to make the code more readable and self-documenting.\n",
       "3.  I reformatted the code to maintain consistent indentation and added blank lines between functions for better readability.\n",
       "4.  I replaced the `while` loop in the `merge` function with a list comprehension, which is more Pythonic and potentially more efficient.\n",
       "5.  I used the `sort` method to sort the merged list in the `merge` function, which is more concise and efficient than the original implementation.\n",
       "\n",
       "Let me know if this revised version meets your expectations!"
      ]
     },
     "metadata": {},
     "output_type": "display_data"
    }
   ],
   "source": [
    "display_markdown(essay, raw=True)"
   ]
  },
  {
   "cell_type": "markdown",
   "id": "dfb18b3f",
   "metadata": {},
   "source": [
    "### Implementing a class"
   ]
  },
  {
   "cell_type": "code",
   "execution_count": 14,
   "id": "e2d2c1f1",
   "metadata": {},
   "outputs": [],
   "source": [
    "from agentic_patterns import ReflectionAgent"
   ]
  }
 ],
 "metadata": {
  "kernelspec": {
   "display_name": ".venv",
   "language": "python",
   "name": "python3"
  },
  "language_info": {
   "codemirror_mode": {
    "name": "ipython",
    "version": 3
   },
   "file_extension": ".py",
   "mimetype": "text/x-python",
   "name": "python",
   "nbconvert_exporter": "python",
   "pygments_lexer": "ipython3",
   "version": "3.13.5"
  }
 },
 "nbformat": 4,
 "nbformat_minor": 5
}
